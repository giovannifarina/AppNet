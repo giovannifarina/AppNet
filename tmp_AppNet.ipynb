{
 "cells": [
  {
   "cell_type": "code",
   "execution_count": null,
   "metadata": {},
   "outputs": [],
   "source": [
    "import subprocess\n",
    "import re\n",
    "\n",
    "def get_ip_address(interface):\n",
    "    \"\"\"Get IP address for a given network interface\"\"\"\n",
    "    command = f\"ip addr show {interface}\"\n",
    "    output = subprocess.check_output(command, shell=True).decode()\n",
    "    ip_pattern = r'inet\\s+(\\d+\\.\\d+\\.\\d+\\.\\d+)'\n",
    "    match = re.search(ip_pattern, output)\n",
    "    if match:\n",
    "        ip_address = match.group(1)\n",
    "        return ip_address\n",
    "    else:\n",
    "        return None\n",
    "\n",
    "interface_name = \"eth0\"\n",
    "ip_address = get_ip_address(interface_name)"
   ]
  },
  {
   "cell_type": "code",
   "execution_count": 7,
   "metadata": {},
   "outputs": [
    {
     "name": "stdout",
     "output_type": "stream",
     "text": [
      "127.0.0.1\n"
     ]
    }
   ],
   "source": [
    "import socket\n",
    "\n",
    "hostname = socket.gethostname()\n",
    "ip_address = socket.gethostbyname(hostname)\n",
    "print(ip_address)"
   ]
  },
  {
   "cell_type": "code",
   "execution_count": null,
   "metadata": {},
   "outputs": [
    {
     "name": "stdout",
     "output_type": "stream",
     "text": [
      "1. Apri Socket UDP sulla porta 5000\n",
      "Valore non valido\n"
     ]
    }
   ],
   "source": [
    "print(\"1. Apri Socket UDP sulla porta 5000 ed aspetta messaggi\")\n",
    "print(\"2. Apri una UDP socket per inviare messaggi ad altri processi\")\n",
    "#print(\"3. Option C: Learn a new skill\")\n",
    "choice = 0\n",
    "while True:\n",
    "    try:\n",
    "        choice = int(input(\"Digita un numero per selezionare l'opzione richiesta (1-2): \"))\n",
    "        if 1 <= choice <= 2:\n",
    "            break\n",
    "        else:\n",
    "            print(\"Valore non valido\")\n",
    "    except ValueError:\n",
    "        print(\"Valore non valido\")"
   ]
  },
  {
   "cell_type": "code",
   "execution_count": null,
   "metadata": {},
   "outputs": [
    {
     "name": "stdout",
     "output_type": "stream",
     "text": [
      "In attesa di messaggi UDP su 0.0.0.0:5000\n",
      "Ricevuto il messaggio: ciao da 127.0.0.1:51722\n",
      "Ricevuto il messaggio: mi ricevi? da 127.0.0.1:51722\n"
     ]
    },
    {
     "ename": "KeyboardInterrupt",
     "evalue": "",
     "output_type": "error",
     "traceback": [
      "\u001b[0;31m---------------------------------------------------------------------------\u001b[0m",
      "\u001b[0;31mKeyboardInterrupt\u001b[0m                         Traceback (most recent call last)",
      "Cell \u001b[0;32mIn[12], line 12\u001b[0m\n\u001b[1;32m      9\u001b[0m \u001b[38;5;28mprint\u001b[39m(\u001b[38;5;124mf\u001b[39m\u001b[38;5;124m\"\u001b[39m\u001b[38;5;124mIn attesa di messaggi UDP su \u001b[39m\u001b[38;5;132;01m{\u001b[39;00mUDP_IP\u001b[38;5;132;01m}\u001b[39;00m\u001b[38;5;124m:\u001b[39m\u001b[38;5;132;01m{\u001b[39;00mUDP_PORT\u001b[38;5;132;01m}\u001b[39;00m\u001b[38;5;124m\"\u001b[39m)\n\u001b[1;32m     11\u001b[0m \u001b[38;5;28;01mwhile\u001b[39;00m \u001b[38;5;28;01mTrue\u001b[39;00m:\n\u001b[0;32m---> 12\u001b[0m     data, addr \u001b[38;5;241m=\u001b[39m \u001b[43msock\u001b[49m\u001b[38;5;241;43m.\u001b[39;49m\u001b[43mrecvfrom\u001b[49m\u001b[43m(\u001b[49m\u001b[38;5;241;43m1024\u001b[39;49m\u001b[43m)\u001b[49m  \u001b[38;5;66;03m# ricevi dati e indirizzo del mittente\u001b[39;00m\n\u001b[1;32m     13\u001b[0m     message \u001b[38;5;241m=\u001b[39m data\u001b[38;5;241m.\u001b[39mdecode()\n\u001b[1;32m     14\u001b[0m     client_ip \u001b[38;5;241m=\u001b[39m addr[\u001b[38;5;241m0\u001b[39m]  \u001b[38;5;66;03m# Estrai l'IP del client\u001b[39;00m\n",
      "\u001b[0;31mKeyboardInterrupt\u001b[0m: "
     ]
    }
   ],
   "source": [
    "# Codice ascolto su porta UDP\n",
    "\n",
    "UDP_IP = \"0.0.0.0\"\n",
    "UDP_PORT = 5000\n",
    "\n",
    "sock = socket.socket(socket.AF_INET,  # Internet\n",
    "                     socket.SOCK_DGRAM)  # UDP\n",
    "\n",
    "sock.bind((UDP_IP, UDP_PORT))\n",
    "\n",
    "print(f\"In attesa di messaggi UDP su {UDP_IP}:{UDP_PORT}\")\n",
    "\n",
    "while True:\n",
    "    data, addr = sock.recvfrom(1024)  # ricevi dati e indirizzo del mittente\n",
    "    message = data.decode()\n",
    "    client_ip = addr[0]  # Estrai l'IP del client\n",
    "    client_port = addr[1]  # Estrai la porta del client\n",
    "    print(f\"Ricevuto il messaggio: {message} da {client_ip}:{client_port}\")"
   ]
  },
  {
   "cell_type": "code",
   "execution_count": 14,
   "metadata": {},
   "outputs": [
    {
     "name": "stdout",
     "output_type": "stream",
     "text": [
      "Quale pc vuoi contattare?\n",
      "1. PC1\n",
      "2. PC2\n",
      "3. PC3\n",
      "Messaggio 'ciao' inviato a 192.168.1.1:5000\n",
      "Programma terminato.\n"
     ]
    }
   ],
   "source": [
    "# Codice invio messaggi UDP\n",
    "print(\"Quale pc vuoi contattare?\")\n",
    "print(\"1. PC1\")\n",
    "print(\"2. PC2\")\n",
    "print(\"3. PC3\")\n",
    "#print(\"3. Option C: Learn a new skill\")\n",
    "pc = 0\n",
    "while True:\n",
    "    try:\n",
    "        pc = int(input(\"Digita un numero per selezionare l'opzione richiesta (1-3): \"))\n",
    "        if 1 <= pc <= 2:\n",
    "            break\n",
    "        else:\n",
    "            print(\"Valore non valido\")\n",
    "    except ValueError:\n",
    "        print(\"Valore non valido\")\n",
    "\n",
    "match pc:\n",
    "    case 1:\n",
    "        dest_IP = \"192.168.1.1\"\n",
    "    case 2:\n",
    "        dest_IP = \"192.168.1.2\"\n",
    "    case 3:\n",
    "        dest_IP = \"192.168.1.3\"\n",
    "\n",
    "import socket\n",
    "\n",
    "#dest_IP = \"0.0.0.0\"  # Indirizzo IP del destinatario\n",
    "dest_port = 5000        # Porta del destinatario\n",
    "\n",
    "sock = socket.socket(socket.AF_INET,  # Internet\n",
    "                     socket.SOCK_DGRAM)  # UDP\n",
    "\n",
    "while True:\n",
    "    message = input(\"Inserisci il messaggio da inviare (o 'exit' per uscire): \")\n",
    "\n",
    "    if message.lower() == \"exit\":\n",
    "        break\n",
    "\n",
    "    sock.sendto(message.encode(), (dest_IP, dest_port)) # Invia il messaggio codificato\n",
    "\n",
    "    print(f\"Messaggio '{message}' inviato a {dest_IP}:{dest_port}\")\n",
    "\n",
    "print(\"Programma terminato.\")\n"
   ]
  }
 ],
 "metadata": {
  "kernelspec": {
   "display_name": "Python 3",
   "language": "python",
   "name": "python3"
  },
  "language_info": {
   "codemirror_mode": {
    "name": "ipython",
    "version": 3
   },
   "file_extension": ".py",
   "mimetype": "text/x-python",
   "name": "python",
   "nbconvert_exporter": "python",
   "pygments_lexer": "ipython3",
   "version": "3.13.1"
  }
 },
 "nbformat": 4,
 "nbformat_minor": 2
}
